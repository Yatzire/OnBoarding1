{
 "cells": [
  {
   "cell_type": "markdown",
   "metadata": {},
   "source": [
    "#Tip práctica 1: "
   ]
  },
  {
   "cell_type": "code",
   "execution_count": 9,
   "metadata": {},
   "outputs": [],
   "source": [
    "# Practica 1: \n",
    "a = 97\n",
    "b = 55\n",
    "if a < b:\n",
    "    print (b)"
   ]
  },
  {
   "cell_type": "markdown",
   "metadata": {},
   "source": [
    "# Tip practica 2"
   ]
  },
  {
   "cell_type": "code",
   "execution_count": 10,
   "metadata": {},
   "outputs": [
    {
     "name": "stdout",
     "output_type": "stream",
     "text": [
      "93\n"
     ]
    }
   ],
   "source": [
    "a = 93\n",
    "b = 27\n",
    "if a >= b:\n",
    "    print (a)"
   ]
  },
  {
   "cell_type": "code",
   "execution_count": 14,
   "metadata": {},
   "outputs": [
    {
     "name": "stdout",
     "output_type": "stream",
     "text": [
      "93\n"
     ]
    }
   ],
   "source": [
    "a = 93\n",
    "b = 27\n",
    "if a >= b:\n",
    "    print(a)\n",
    "else:\n",
    "    print (b)"
   ]
  },
  {
   "cell_type": "code",
   "execution_count": 20,
   "metadata": {},
   "outputs": [
    {
     "name": "stdout",
     "output_type": "stream",
     "text": [
      "a es igual que b\n"
     ]
    }
   ],
   "source": [
    "a = 27\n",
    "b = 27\n",
    "if a > b:\n",
    "    print(\"a es mayor que b\")\n",
    "elif a < b:\n",
    "    print(\"a es menor que b\")\n",
    "else:\n",
    "    print (\"a es igual que b\")"
   ]
  },
  {
   "cell_type": "code",
   "execution_count": 33,
   "metadata": {},
   "outputs": [
    {
     "name": "stdout",
     "output_type": "stream",
     "text": [
      "a es mayir que b y b es mayor que c\n"
     ]
    }
   ],
   "source": [
    "a = 16\n",
    "b = 25\n",
    "c = 27\n",
    "if a > b: \n",
    "    if b > c: \n",
    "        print (\"a es mayor que b y b es mayor que c\")\n",
    "    else:\n",
    "        print (\"a es mayor que b y menor que c\")\n",
    "elif a == b:\n",
    "    print (\"a es igualk que b\")\n",
    "else:\n",
    "    print(\"a es menor que b\")  \n",
    "        "
   ]
  },
  {
   "cell_type": "markdown",
   "metadata": {},
   "source": [
    "## Asteroide en camino\n",
    "Ejercicio 1"
   ]
  },
  {
   "cell_type": "code",
   "execution_count": 38,
   "metadata": {},
   "outputs": [
    {
     "name": "stdout",
     "output_type": "stream",
     "text": [
      "PELIGRO asteroide asercandose a la tierra\n"
     ]
    }
   ],
   "source": [
    "velocidad = 49 \n",
    "if velocidad > 25: \n",
    "   print (\"PELIGRO asteroide asercandose a la tierra\")\n",
    "\n",
    "else: \n",
    "   print(\"No existe peligro\")"
   ]
  },
  {
   "cell_type": "markdown",
   "metadata": {},
   "source": [
    "Ejercicio 2"
   ]
  },
  {
   "cell_type": "code",
   "execution_count": 54,
   "metadata": {},
   "outputs": [
    {
     "name": "stdout",
     "output_type": "stream",
     "text": [
      " Hoy es un dia sin asteroides\n"
     ]
    }
   ],
   "source": [
    "asteroide = 19\n",
    "rayoluz = 20\n",
    "if asteroide > rayoluz:\n",
    "    print(\" Busca en el cielo el rayo de Luz\")\n",
    "elif asteroide == rayoluz:\n",
    "    print(\"Busca en el cielo \")\n",
    "else : \n",
    "    print (\" Hoy es un dia sin asteroides\")"
   ]
  },
  {
   "cell_type": "markdown",
   "metadata": {},
   "source": [
    "Ejercicio 3"
   ]
  },
  {
   "cell_type": "code",
   "execution_count": 78,
   "metadata": {},
   "outputs": [
    {
     "name": "stdout",
     "output_type": "stream",
     "text": [
      "mira en el cielo el rayo de luz\n"
     ]
    }
   ],
   "source": [
    "tamaño = 10\n",
    "velocidad =20\n",
    "if tamaño >25 and velocidad >25:\n",
    "    print (\"EL ASTEROIDE CAUSARA DAÑO EN LA TIERRA\")\n",
    "elif velocidad >= 20:    \n",
    "    print (\"mira en el cielo el rayo de luz\")\n",
    "else :\n",
    "     print (\"continua con tu vida\")"
   ]
  }
 ],
 "metadata": {
  "interpreter": {
   "hash": "5f544fe4746a93de9945100c956f034eb34c103c91abc00e2cc86b73e59a493c"
  },
  "kernelspec": {
   "display_name": "Python 3.9.10 64-bit (windows store)",
   "language": "python",
   "name": "python3"
  },
  "language_info": {
   "codemirror_mode": {
    "name": "ipython",
    "version": 3
   },
   "file_extension": ".py",
   "mimetype": "text/x-python",
   "name": "python",
   "nbconvert_exporter": "python",
   "pygments_lexer": "ipython3",
   "version": "3.9.10"
  },
  "orig_nbformat": 4
 },
 "nbformat": 4,
 "nbformat_minor": 2
}
